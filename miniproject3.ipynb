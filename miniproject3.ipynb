{
  "nbformat": 4,
  "nbformat_minor": 0,
  "metadata": {
    "colab": {
      "provenance": [],
      "authorship_tag": "ABX9TyNqjjkyYH2FKzq7LukXTmPW",
      "include_colab_link": true
    },
    "kernelspec": {
      "name": "python3",
      "display_name": "Python 3"
    },
    "language_info": {
      "name": "python"
    }
  },
  "cells": [
    {
      "cell_type": "markdown",
      "metadata": {
        "id": "view-in-github",
        "colab_type": "text"
      },
      "source": [
        "<a href=\"https://colab.research.google.com/github/22AD040/adroidtask/blob/main/miniproject3.ipynb\" target=\"_parent\"><img src=\"https://colab.research.google.com/assets/colab-badge.svg\" alt=\"Open In Colab\"/></a>"
      ]
    },
    {
      "cell_type": "code",
      "execution_count": 1,
      "metadata": {
        "colab": {
          "base_uri": "https://localhost:8080/"
        },
        "id": "mKYLuaWtJoE3",
        "outputId": "c2dc1031-b7d6-4356-e245-58b890db9b11"
      },
      "outputs": [
        {
          "output_type": "stream",
          "name": "stdout",
          "text": [
            "Time taken for 200MB: 2.80 seconds\n",
            "Time taken for 400MB: 4.49 seconds\n",
            "Time taken for 600MB: 6.43 seconds\n",
            "Time taken for 800MB: 9.11 seconds\n",
            "Time taken for 1000MB: 14.14 seconds\n",
            "Results: {200: 2.80379056930542, 400: 4.491988897323608, 600: 6.428656816482544, 800: 9.110435247421265, 1000: 14.144184112548828}\n"
          ]
        }
      ],
      "source": [
        "import time\n",
        "import os\n",
        "\n",
        "# Function to create a text file of a given size (in MB)\n",
        "def create_text_file(filename, size_mb):\n",
        "    with open(filename, 'w') as f:\n",
        "        f.write('a' * size_mb * 1024 * 1024)\n",
        "\n",
        "# Function to convert the content of a text file to uppercase\n",
        "def convert_to_uppercase(filename):\n",
        "    start_time = time.time()\n",
        "    with open(filename, 'r') as f:\n",
        "        content = f.read()\n",
        "    content_upper = content.upper()\n",
        "    with open(filename, 'w') as f:\n",
        "        f.write(content_upper)\n",
        "    end_time = time.time()\n",
        "    return end_time - start_time\n",
        "\n",
        "# Function to test the conversion time for various file sizes\n",
        "def test_conversion_times():\n",
        "    sizes_mb = [200, 400, 600, 800, 1000]\n",
        "    results = {}\n",
        "\n",
        "    for size in sizes_mb:\n",
        "        filename = f'test_{size}MB.txt'\n",
        "        create_text_file(filename, size)\n",
        "        time_taken = convert_to_uppercase(filename)\n",
        "        results[size] = time_taken\n",
        "        os.remove(filename)  # Clean up the file after conversion\n",
        "        print(f\"Time taken for {size}MB: {time_taken:.2f} seconds\")\n",
        "\n",
        "    return results\n",
        "\n",
        "# Main function\n",
        "def main():\n",
        "    results = test_conversion_times()\n",
        "    print(\"Results:\", results)\n",
        "\n",
        "if __name__ == \"__main__\":\n",
        "    main()\n"
      ]
    }
  ]
}