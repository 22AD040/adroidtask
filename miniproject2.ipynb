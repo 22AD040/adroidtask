{
  "nbformat": 4,
  "nbformat_minor": 0,
  "metadata": {
    "colab": {
      "provenance": [],
      "authorship_tag": "ABX9TyMxqGEpibwZjzQGWnu26dWr",
      "include_colab_link": true
    },
    "kernelspec": {
      "name": "python3",
      "display_name": "Python 3"
    },
    "language_info": {
      "name": "python"
    }
  },
  "cells": [
    {
      "cell_type": "markdown",
      "metadata": {
        "id": "view-in-github",
        "colab_type": "text"
      },
      "source": [
        "<a href=\"https://colab.research.google.com/github/22AD040/adroidtask/blob/main/miniproject2.ipynb\" target=\"_parent\"><img src=\"https://colab.research.google.com/assets/colab-badge.svg\" alt=\"Open In Colab\"/></a>"
      ]
    },
    {
      "cell_type": "code",
      "execution_count": 1,
      "metadata": {
        "id": "jQt6k_y7LZsA"
      },
      "outputs": [],
      "source": [
        "import random as r"
      ]
    },
    {
      "cell_type": "code",
      "source": [
        "ProductList = {'p1':64, 'p2':88, 'p3':152, 'p4':93, 'p5':76}\n",
        "LB          = 290\n",
        "UB          = 310\n",
        "ResultList  = set()   # Store Result List i.e. list of sets whose sum is between 90 and 210.\n",
        "Iterations  = 1000    # Number of Inerations"
      ],
      "metadata": {
        "id": "l7_5kvXkLsk2"
      },
      "execution_count": 3,
      "outputs": []
    },
    {
      "cell_type": "code",
      "source": [
        "# Select combo size (i.e. number of products in a combo)\n",
        "SetSize = r.randint(2, len(ProductList)-1)\n",
        "print(\"Number of Product: \", SetSize)\n",
        "\n",
        "\n",
        "# Select number of elements from Set\n",
        "ComboList = r.sample(list(ProductList.keys()),SetSize)\n",
        "print(\"Product List     : \", ComboList)\n",
        "\n",
        "\n",
        "# Sum the products in ColboList\n",
        "ComboSum = sum([ ProductList[i] for i in ComboList])\n",
        "print(\"Sum of Product   : \", ComboSum)"
      ],
      "metadata": {
        "colab": {
          "base_uri": "https://localhost:8080/"
        },
        "id": "ZgaE3SKGMg35",
        "outputId": "a41936ab-92e7-4917-b67f-9d0b8c7c0774"
      },
      "execution_count": 4,
      "outputs": [
        {
          "output_type": "stream",
          "name": "stdout",
          "text": [
            "Number of Product:  4\n",
            "Product List     :  ['p5', 'p3', 'p2', 'p1']\n",
            "Sum of Product   :  380\n"
          ]
        }
      ]
    },
    {
      "cell_type": "code",
      "source": [
        "ResultList  = set()\n",
        "\n",
        "for i in range(Iterations):\n",
        "\n",
        "    # Select combo size (i.e. number of products in a combo)\n",
        "    SetSize = r.randint(2, len(ProductList)-1)\n",
        "\n",
        "    # Select number of elements from Set\n",
        "    ComboList = r.sample(list(ProductList.keys()),SetSize)\n",
        "\n",
        "    # Sum the products in ColboList\n",
        "    ComboSum = sum([ ProductList[i] for i in ComboList])\n",
        "\n",
        "    # Check the Sum Between LB and UB\n",
        "    if ComboSum>= LB and ComboSum<= UB:\n",
        "      ResultList.add(tuple(ComboList))\n",
        "\n",
        "print(\"Done\")"
      ],
      "metadata": {
        "colab": {
          "base_uri": "https://localhost:8080/"
        },
        "id": "WvzgKKXIMr1o",
        "outputId": "65ca6f54-3213-42a2-8d5e-be2b966ae95d"
      },
      "execution_count": 5,
      "outputs": [
        {
          "output_type": "stream",
          "name": "stdout",
          "text": [
            "Done\n"
          ]
        }
      ]
    },
    {
      "cell_type": "code",
      "source": [
        "# Print all the sets whose sum is between LB and UB\n",
        "for r in ResultList:\n",
        "\tprint (r)\n",
        "\n",
        "# Print total sets\n",
        "print (\"\\nTotal Sets: \", len(ResultList), \"\\n\")"
      ],
      "metadata": {
        "colab": {
          "base_uri": "https://localhost:8080/"
        },
        "id": "OXn-iEDHMvwM",
        "outputId": "7a42d090-cba4-4f14-eb35-5e5b8ea6dbaa"
      },
      "execution_count": 6,
      "outputs": [
        {
          "output_type": "stream",
          "name": "stdout",
          "text": [
            "('p4', 'p1', 'p3')\n",
            "('p1', 'p5', 'p3')\n",
            "('p3', 'p1', 'p4')\n",
            "('p5', 'p1', 'p3')\n",
            "('p2', 'p1', 'p3')\n",
            "('p2', 'p3', 'p1')\n",
            "('p1', 'p2', 'p3')\n",
            "('p1', 'p3', 'p2')\n",
            "('p5', 'p3', 'p1')\n",
            "('p3', 'p1', 'p2')\n",
            "('p1', 'p4', 'p3')\n",
            "('p1', 'p3', 'p4')\n",
            "('p3', 'p2', 'p1')\n",
            "('p1', 'p3', 'p5')\n",
            "('p3', 'p1', 'p5')\n",
            "('p4', 'p3', 'p1')\n",
            "('p3', 'p5', 'p1')\n",
            "('p3', 'p4', 'p1')\n",
            "\n",
            "Total Sets:  18 \n",
            "\n"
          ]
        }
      ]
    }
  ]
}